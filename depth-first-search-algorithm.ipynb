{
 "cells": [
  {
   "cell_type": "markdown",
   "metadata": {},
   "source": [
    "## Depth-First Search"
   ]
  },
  {
   "cell_type": "markdown",
   "metadata": {},
   "source": [
    "`Depth-First Search` adalah algoritma `Blind/Un-informed Search` karena memang tidak ada informasi yang digunakan dalam proses pencarian. Algoritma DFS ini sangat mirip dengan algoritma BFS, bedanya jika BFS melakukan perhitungan pada setiap level secara berurutan dari simpul pertama sampai simpul terakhir, maka DFS melakukan kebalikannya yaitu melakukan perhitungan secara terurut terhadap semua simpul dari urutan paling terakhir. \n",
    "\n",
    "Secara teknis `Depth-First Search` melakukan pencarian pada suatu _Simpul Yang Terdalam_ pada  setiap level, jika pada level terdalam tidak ditemukan solusi maka akan dilanjutkan pada simpul sebelah kanan dan simpul yang disebelah kiri akan dihapus dari memori. Jika level paling dalam tidak ada solusi yang didapatkan maka akan kembali dan melanjutkan pada level sebelumnya. \n",
    "\n",
    "**Kelebihan DFS**:\n",
    "+ pemakaian memori yang lebih sedikit\n",
    "\n",
    "**Kekurangan DFS**: \n",
    "- Jika pohon yang dibangkitkan mempunyai level yang sangat dalam (tak terhingga), maka tidak ada jaminan menemukan solusi artinya DFS tidak _complete_\n",
    "- Jika terdapat lebih dari satu solusi yang sama tetapi berada pada level berbeda, maka DFS tidak menjai solusi yang paling baik. Artinya DFS _tidak optimal_"
   ]
  },
  {
   "cell_type": "code",
   "execution_count": null,
   "metadata": {},
   "outputs": [],
   "source": []
  }
 ],
 "metadata": {
  "kernelspec": {
   "display_name": "Python [conda env:jcop_usl]",
   "language": "python",
   "name": "conda-env-jcop_usl-py"
  },
  "language_info": {
   "codemirror_mode": {
    "name": "ipython",
    "version": 3
   },
   "file_extension": ".py",
   "mimetype": "text/x-python",
   "name": "python",
   "nbconvert_exporter": "python",
   "pygments_lexer": "ipython3",
   "version": "3.7.6"
  }
 },
 "nbformat": 4,
 "nbformat_minor": 4
}
