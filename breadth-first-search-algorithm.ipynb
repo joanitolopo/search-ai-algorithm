{
 "cells": [
  {
   "cell_type": "markdown",
   "metadata": {},
   "source": [
    "## Breadth-First Search"
   ]
  },
  {
   "cell_type": "markdown",
   "metadata": {},
   "source": [
    "`Breadth-First Search` adalah algoritma `Blind/Un-informed Search` karena memang tidak ada informasi yang digunakan dalam proses pencarian. Pencarian menggunakan algoritma BFS ini dilakukan pada semua simpul dalam setiap level secara berurutan dari kiri ke kanan. Jika pada level pertama tidak ditemukan solusi maka akan diteruskan kepada level berikutnya.\n",
    "\n",
    "BFS adalah _complete_ dan _optimal_ tetapi BFS harus menyimpan semua simpul yang pernah dibangkitkan. Misalkan, untuk $b$ = 10 dan $d$ = 8, maka kita harus membangkitkan dan menyimpan sebanyak $10^0 + 10^1 + 10^2 + 10^3 + 10^4 + 10^5 + 10^6 + 10^7 + 10^8 = 111.111.111.$"
   ]
  },
  {
   "cell_type": "markdown",
   "metadata": {},
   "source": [
    "Cara Kerja Algoritma BFS :\n",
    "\n",
    "```\n",
    "1. Masukkan simpul ujung (akar) ke dalam antrian.\n",
    "2. Ambil simpul dari awal antrian, lalu cek apakah simpul merupakan solusi.\n",
    "3. Jika simpul merupakan solusi, pencarian selesai dan hasil dikembalikan.\n",
    "4. Jika simpul bukan solusi, masukkan seluruh simpul yang bertetangga dengan simpul tersebut (simpul anak) ke dalam antrian.\n",
    "5. Jika antrian kosong dan setiap simpul sudah dicek, pencarian selesai dan mengembalikan hasil solusi tidak ditemukan.\n",
    "6. Ulangi pencarian dari langkah kedua.\n",
    "Singkatnya, misal ada antrian A D F H, maka dalam bfs yang diambil terlebih dahulu adalah A.\n",
    "```\n",
    "\n",
    "Referensi: [https://student.blog.dinus.ac.id/agustintyaz/2017/04/26/bfsbreatdh-first-search-dan-dfsdepth-first-search/]"
   ]
  },
  {
   "cell_type": "code",
   "execution_count": 1,
   "metadata": {},
   "outputs": [],
   "source": [
    "def bfs (graf, mulai, tujuan):\n",
    "    queue = [[mulai]]\n",
    "    visited = set()\n",
    "    \n",
    "    while queue:\n",
    "        \n",
    "        jalur = queue.pop(0)\n",
    "        print(f\"Jalur yang sekarang dilewati : {jalur}\")\n",
    "        state = jalur[-1]\n",
    "        print(f\"Penyimpanan jalur visited : {visited}\")\n",
    "        if state == tujuan: #Jika simpul adalah solusi, maka akan mengembalikan solusi sekarang\n",
    "            print(f\"Jalur sekarang ({state}) == tujuan ({tujuan})\")\n",
    "            return jalur\n",
    "        elif state not in visited:\n",
    "            print(f\"Jalur sekarang belum optimal ({state} != {tujuan})\\n\")\n",
    "            for cabang in graf.get(state, []):\n",
    "                jalur_baru = list(jalur)\n",
    "                jalur_baru.append(cabang)\n",
    "                queue.append(jalur_baru)\n",
    "                \n",
    "            visited.add(state)\n",
    "        else:\n",
    "            print(f\"Jalur {state} ada di tempat yang sudah di visited yaitu {visited}\\n\")\n",
    "            \n",
    "        isi = len(queue)\n",
    "        if isi == 0:\n",
    "            print(\"Tidak ditemukan\")"
   ]
  },
  {
   "cell_type": "code",
   "execution_count": 2,
   "metadata": {},
   "outputs": [],
   "source": [
    "graf = {'A':set(['B', 'C']),\n",
    "       'B':set(['A']),\n",
    "       'C':set(['A', 'D', 'E', 'F']),\n",
    "       'D':set(['C', 'G', 'H']),\n",
    "       'E':set(['C', 'F', 'I']),\n",
    "       'F':set(['C', 'E', 'K']),\n",
    "       'G':set(['D', 'H', 'I']),\n",
    "       'H':set(['D', 'G']),\n",
    "       'I':set(['E', 'G', 'J']),\n",
    "       'J':set(['I', 'L']),\n",
    "       'K':set(['F', 'L']),\n",
    "       'L':set(['K', 'J'])}"
   ]
  },
  {
   "cell_type": "code",
   "execution_count": 3,
   "metadata": {},
   "outputs": [
    {
     "name": "stdout",
     "output_type": "stream",
     "text": [
      "Jalur yang sekarang dilewati : ['A']\n",
      "Penyimpanan jalur visited : set()\n",
      "Jalur sekarang belum optimal (A != J)\n",
      "\n",
      "Jalur yang sekarang dilewati : ['A', 'B']\n",
      "Penyimpanan jalur visited : {'A'}\n",
      "Jalur sekarang belum optimal (B != J)\n",
      "\n",
      "Jalur yang sekarang dilewati : ['A', 'C']\n",
      "Penyimpanan jalur visited : {'B', 'A'}\n",
      "Jalur sekarang belum optimal (C != J)\n",
      "\n",
      "Jalur yang sekarang dilewati : ['A', 'B', 'A']\n",
      "Penyimpanan jalur visited : {'B', 'C', 'A'}\n",
      "Jalur A ada di tempat yang sudah di visited yaitu {'B', 'C', 'A'}\n",
      "\n",
      "Jalur yang sekarang dilewati : ['A', 'C', 'E']\n",
      "Penyimpanan jalur visited : {'B', 'C', 'A'}\n",
      "Jalur sekarang belum optimal (E != J)\n",
      "\n",
      "Jalur yang sekarang dilewati : ['A', 'C', 'F']\n",
      "Penyimpanan jalur visited : {'E', 'B', 'C', 'A'}\n",
      "Jalur sekarang belum optimal (F != J)\n",
      "\n",
      "Jalur yang sekarang dilewati : ['A', 'C', 'A']\n",
      "Penyimpanan jalur visited : {'E', 'F', 'A', 'B', 'C'}\n",
      "Jalur A ada di tempat yang sudah di visited yaitu {'E', 'F', 'A', 'B', 'C'}\n",
      "\n",
      "Jalur yang sekarang dilewati : ['A', 'C', 'D']\n",
      "Penyimpanan jalur visited : {'E', 'F', 'A', 'B', 'C'}\n",
      "Jalur sekarang belum optimal (D != J)\n",
      "\n",
      "Jalur yang sekarang dilewati : ['A', 'C', 'E', 'I']\n",
      "Penyimpanan jalur visited : {'E', 'F', 'A', 'B', 'C', 'D'}\n",
      "Jalur sekarang belum optimal (I != J)\n",
      "\n",
      "Jalur yang sekarang dilewati : ['A', 'C', 'E', 'C']\n",
      "Penyimpanan jalur visited : {'E', 'F', 'I', 'A', 'B', 'C', 'D'}\n",
      "Jalur C ada di tempat yang sudah di visited yaitu {'E', 'F', 'I', 'A', 'B', 'C', 'D'}\n",
      "\n",
      "Jalur yang sekarang dilewati : ['A', 'C', 'E', 'F']\n",
      "Penyimpanan jalur visited : {'E', 'F', 'I', 'A', 'B', 'C', 'D'}\n",
      "Jalur F ada di tempat yang sudah di visited yaitu {'E', 'F', 'I', 'A', 'B', 'C', 'D'}\n",
      "\n",
      "Jalur yang sekarang dilewati : ['A', 'C', 'F', 'E']\n",
      "Penyimpanan jalur visited : {'E', 'F', 'I', 'A', 'B', 'C', 'D'}\n",
      "Jalur E ada di tempat yang sudah di visited yaitu {'E', 'F', 'I', 'A', 'B', 'C', 'D'}\n",
      "\n",
      "Jalur yang sekarang dilewati : ['A', 'C', 'F', 'C']\n",
      "Penyimpanan jalur visited : {'E', 'F', 'I', 'A', 'B', 'C', 'D'}\n",
      "Jalur C ada di tempat yang sudah di visited yaitu {'E', 'F', 'I', 'A', 'B', 'C', 'D'}\n",
      "\n",
      "Jalur yang sekarang dilewati : ['A', 'C', 'F', 'K']\n",
      "Penyimpanan jalur visited : {'E', 'F', 'I', 'A', 'B', 'C', 'D'}\n",
      "Jalur sekarang belum optimal (K != J)\n",
      "\n",
      "Jalur yang sekarang dilewati : ['A', 'C', 'D', 'C']\n",
      "Penyimpanan jalur visited : {'E', 'F', 'I', 'A', 'K', 'B', 'C', 'D'}\n",
      "Jalur C ada di tempat yang sudah di visited yaitu {'E', 'F', 'I', 'A', 'K', 'B', 'C', 'D'}\n",
      "\n",
      "Jalur yang sekarang dilewati : ['A', 'C', 'D', 'G']\n",
      "Penyimpanan jalur visited : {'E', 'F', 'I', 'A', 'K', 'B', 'C', 'D'}\n",
      "Jalur sekarang belum optimal (G != J)\n",
      "\n",
      "Jalur yang sekarang dilewati : ['A', 'C', 'D', 'H']\n",
      "Penyimpanan jalur visited : {'E', 'F', 'I', 'G', 'A', 'K', 'B', 'C', 'D'}\n",
      "Jalur sekarang belum optimal (H != J)\n",
      "\n",
      "Jalur yang sekarang dilewati : ['A', 'C', 'E', 'I', 'E']\n",
      "Penyimpanan jalur visited : {'E', 'F', 'H', 'I', 'G', 'A', 'K', 'B', 'C', 'D'}\n",
      "Jalur E ada di tempat yang sudah di visited yaitu {'E', 'F', 'H', 'I', 'G', 'A', 'K', 'B', 'C', 'D'}\n",
      "\n",
      "Jalur yang sekarang dilewati : ['A', 'C', 'E', 'I', 'G']\n",
      "Penyimpanan jalur visited : {'E', 'F', 'H', 'I', 'G', 'A', 'K', 'B', 'C', 'D'}\n",
      "Jalur G ada di tempat yang sudah di visited yaitu {'E', 'F', 'H', 'I', 'G', 'A', 'K', 'B', 'C', 'D'}\n",
      "\n",
      "Jalur yang sekarang dilewati : ['A', 'C', 'E', 'I', 'J']\n",
      "Penyimpanan jalur visited : {'E', 'F', 'H', 'I', 'G', 'A', 'K', 'B', 'C', 'D'}\n",
      "Jalur sekarang (J) == tujuan (J)\n"
     ]
    },
    {
     "data": {
      "text/plain": [
       "['A', 'C', 'E', 'I', 'J']"
      ]
     },
     "execution_count": 3,
     "metadata": {},
     "output_type": "execute_result"
    }
   ],
   "source": [
    "bfs(graf, 'A', 'J')"
   ]
  },
  {
   "cell_type": "code",
   "execution_count": null,
   "metadata": {},
   "outputs": [],
   "source": []
  }
 ],
 "metadata": {
  "kernelspec": {
   "display_name": "Python [conda env:jcop_usl]",
   "language": "python",
   "name": "conda-env-jcop_usl-py"
  },
  "language_info": {
   "codemirror_mode": {
    "name": "ipython",
    "version": 3
   },
   "file_extension": ".py",
   "mimetype": "text/x-python",
   "name": "python",
   "nbconvert_exporter": "python",
   "pygments_lexer": "ipython3",
   "version": "3.7.6"
  }
 },
 "nbformat": 4,
 "nbformat_minor": 4
}
