{
 "cells": [
  {
   "cell_type": "markdown",
   "metadata": {},
   "source": [
    "## Breadth-First Search"
   ]
  },
  {
   "cell_type": "markdown",
   "metadata": {},
   "source": [
    "`Breadth-First Search` adalah algoritma `Blind/Un-informed Search` karena memang tidak ada informasi yang digunakan dalam proses pencarian. Pencarian menggunakan algoritma BFS ini dilakukan pada semua simpul dalam setiap level secara berurutan dari kiri ke kanan. Jika pada level pertama tidak ditemukan solusi maka akan diteruskan kepada level berikutnya.\n",
    "\n",
    "BFS adalah _complete_ dan _optimal_ tetapi BFS harus menyimpan semua simpul yang pernah dibangkitkan. Misalkan, untuk $b$ = 10 dan $d$ = 8, maka kita harus membangkitkan dan menyimpan sebanyak $10^0 + 10^1 + 10^2 + 10^3 + 10^4 + 10^5 + 10^6 + 10^7 + 10^8 = 111.111.111.$"
   ]
  },
  {
   "cell_type": "markdown",
   "metadata": {},
   "source": [
    "Cara Kerja Algoritma BFS :\n",
    "\n",
    "```\n",
    "1. Masukkan simpul ujung (akar) ke dalam antrian.\n",
    "2. Ambil simpul dari awal antrian, lalu cek apakah simpul merupakan solusi.\n",
    "3. Jika simpul merupakan solusi, pencarian selesai dan hasil dikembalikan.\n",
    "4. Jika simpul bukan solusi, masukkan seluruh simpul yang bertetangga dengan simpul tersebut (simpul anak) ke dalam antrian.\n",
    "5. Jika antrian kosong dan setiap simpul sudah dicek, pencarian selesai dan mengembalikan hasil solusi tidak ditemukan.\n",
    "6. Ulangi pencarian dari langkah kedua.\n",
    "Singkatnya, misal ada antrian A D F H, maka dalam bfs yang diambil terlebih dahulu adalah A.\n",
    "```\n",
    "\n",
    "Referensi: [https://student.blog.dinus.ac.id/agustintyaz/2017/04/26/bfsbreatdh-first-search-dan-dfsdepth-first-search/]"
   ]
  },
  {
   "cell_type": "code",
   "execution_count": 21,
   "metadata": {},
   "outputs": [],
   "source": [
    "def bfs (graf, mulai, tujuan):\n",
    "    queue = [[mulai]]\n",
    "    visited = set()\n",
    "    \n",
    "    while queue:\n",
    "        \n",
    "        jalur = queue.pop(0)\n",
    "        print(f\"Jalur yang sekarang dilewati : {jalur}\")\n",
    "        state = jalur[-1]\n",
    "        print(f\"Penyimpanan jalur visited : {visited}\")\n",
    "        if state == tujuan: #Jika simpul adalah solusi, maka akan mengembalikan solusi sekarang\n",
    "            print(f\"Jalur sekarang ({state}) == tujuan ({tujuan})\")\n",
    "            return jalur\n",
    "        elif state not in visited:\n",
    "            print(f\"Jalur sekarang belum optimal ({state} != {tujuan})\\n\")\n",
    "            for cabang in graf.get(state, []):\n",
    "                jalur_baru = list(jalur)\n",
    "                jalur_baru.append(cabang)\n",
    "                queue.append(jalur_baru)\n",
    "                \n",
    "            visited.add(state)\n",
    "        else:\n",
    "            print(f\"Jalur {state} ada di tempat yang sudah di visited yaitu {visited}\\n\")\n",
    "            \n",
    "        isi = len(queue)\n",
    "        if isi == 0:\n",
    "            print(\"Tidak ditemukan\")"
   ]
  },
  {
   "cell_type": "code",
   "execution_count": 22,
   "metadata": {},
   "outputs": [],
   "source": [
    "graf = {'A':set(['B', 'C']),\n",
    "       'B':set(['A']),\n",
    "       'C':set(['A', 'D', 'E', 'F']),\n",
    "       'D':set(['C', 'G', 'H']),\n",
    "       'E':set(['C', 'F', 'I']),\n",
    "       'F':set(['C', 'E', 'K']),\n",
    "       'G':set(['D', 'H', 'I']),\n",
    "       'H':set(['D', 'G']),\n",
    "       'I':set(['E', 'G', 'J']),\n",
    "       'J':set(['I', 'L']),\n",
    "       'K':set(['F', 'L']),\n",
    "       'L':set(['K', 'J'])}"
   ]
  },
  {
   "cell_type": "code",
   "execution_count": 23,
   "metadata": {},
   "outputs": [
    {
     "name": "stdout",
     "output_type": "stream",
     "text": [
      "Jalur yang sekarang dilewati : ['A']\n",
      "Penyimpanan jalur visited : set()\n",
      "Jalur sekarang belum optimal (A != J)\n",
      "\n",
      "Jalur yang sekarang dilewati : ['A', 'B']\n",
      "Penyimpanan jalur visited : {'A'}\n",
      "Jalur sekarang belum optimal (B != J)\n",
      "\n",
      "Jalur yang sekarang dilewati : ['A', 'C']\n",
      "Penyimpanan jalur visited : {'A', 'B'}\n",
      "Jalur sekarang belum optimal (C != J)\n",
      "\n",
      "Jalur yang sekarang dilewati : ['A', 'B', 'A']\n",
      "Penyimpanan jalur visited : {'A', 'B', 'C'}\n",
      "Jalur A ada di tempat yang sudah di visited yaitu {'A', 'B', 'C'}\n",
      "\n",
      "Jalur yang sekarang dilewati : ['A', 'C', 'E']\n",
      "Penyimpanan jalur visited : {'A', 'B', 'C'}\n",
      "Jalur sekarang belum optimal (E != J)\n",
      "\n",
      "Jalur yang sekarang dilewati : ['A', 'C', 'F']\n",
      "Penyimpanan jalur visited : {'E', 'A', 'B', 'C'}\n",
      "Jalur sekarang belum optimal (F != J)\n",
      "\n",
      "Jalur yang sekarang dilewati : ['A', 'C', 'A']\n",
      "Penyimpanan jalur visited : {'A', 'E', 'F', 'B', 'C'}\n",
      "Jalur A ada di tempat yang sudah di visited yaitu {'A', 'E', 'F', 'B', 'C'}\n",
      "\n",
      "Jalur yang sekarang dilewati : ['A', 'C', 'D']\n",
      "Penyimpanan jalur visited : {'A', 'E', 'F', 'B', 'C'}\n",
      "Jalur sekarang belum optimal (D != J)\n",
      "\n",
      "Jalur yang sekarang dilewati : ['A', 'C', 'E', 'F']\n",
      "Penyimpanan jalur visited : {'A', 'E', 'D', 'F', 'B', 'C'}\n",
      "Jalur F ada di tempat yang sudah di visited yaitu {'A', 'E', 'D', 'F', 'B', 'C'}\n",
      "\n",
      "Jalur yang sekarang dilewati : ['A', 'C', 'E', 'I']\n",
      "Penyimpanan jalur visited : {'A', 'E', 'D', 'F', 'B', 'C'}\n",
      "Jalur sekarang belum optimal (I != J)\n",
      "\n",
      "Jalur yang sekarang dilewati : ['A', 'C', 'E', 'C']\n",
      "Penyimpanan jalur visited : {'A', 'I', 'E', 'D', 'F', 'B', 'C'}\n",
      "Jalur C ada di tempat yang sudah di visited yaitu {'A', 'I', 'E', 'D', 'F', 'B', 'C'}\n",
      "\n",
      "Jalur yang sekarang dilewati : ['A', 'C', 'F', 'E']\n",
      "Penyimpanan jalur visited : {'A', 'I', 'E', 'D', 'F', 'B', 'C'}\n",
      "Jalur E ada di tempat yang sudah di visited yaitu {'A', 'I', 'E', 'D', 'F', 'B', 'C'}\n",
      "\n",
      "Jalur yang sekarang dilewati : ['A', 'C', 'F', 'K']\n",
      "Penyimpanan jalur visited : {'A', 'I', 'E', 'D', 'F', 'B', 'C'}\n",
      "Jalur sekarang belum optimal (K != J)\n",
      "\n",
      "Jalur yang sekarang dilewati : ['A', 'C', 'F', 'C']\n",
      "Penyimpanan jalur visited : {'A', 'K', 'I', 'E', 'D', 'F', 'B', 'C'}\n",
      "Jalur C ada di tempat yang sudah di visited yaitu {'A', 'K', 'I', 'E', 'D', 'F', 'B', 'C'}\n",
      "\n",
      "Jalur yang sekarang dilewati : ['A', 'C', 'D', 'H']\n",
      "Penyimpanan jalur visited : {'A', 'K', 'I', 'E', 'D', 'F', 'B', 'C'}\n",
      "Jalur sekarang belum optimal (H != J)\n",
      "\n",
      "Jalur yang sekarang dilewati : ['A', 'C', 'D', 'G']\n",
      "Penyimpanan jalur visited : {'A', 'K', 'I', 'E', 'D', 'F', 'B', 'H', 'C'}\n",
      "Jalur sekarang belum optimal (G != J)\n",
      "\n",
      "Jalur yang sekarang dilewati : ['A', 'C', 'D', 'C']\n",
      "Penyimpanan jalur visited : {'A', 'K', 'I', 'E', 'D', 'F', 'G', 'B', 'H', 'C'}\n",
      "Jalur C ada di tempat yang sudah di visited yaitu {'A', 'K', 'I', 'E', 'D', 'F', 'G', 'B', 'H', 'C'}\n",
      "\n",
      "Jalur yang sekarang dilewati : ['A', 'C', 'E', 'I', 'J']\n",
      "Penyimpanan jalur visited : {'A', 'K', 'I', 'E', 'D', 'F', 'G', 'B', 'H', 'C'}\n",
      "Jalur sekarang (J) == tujuan (J)\n"
     ]
    },
    {
     "data": {
      "text/plain": [
       "['A', 'C', 'E', 'I', 'J']"
      ]
     },
     "execution_count": 23,
     "metadata": {},
     "output_type": "execute_result"
    }
   ],
   "source": [
    "bfs(graf, 'A', 'J')"
   ]
  },
  {
   "cell_type": "markdown",
   "metadata": {},
   "source": [
    "# Visualisasi Node"
   ]
  },
  {
   "cell_type": "code",
   "execution_count": 43,
   "metadata": {},
   "outputs": [],
   "source": [
    "from itertools import combinations\n",
    "import networkx as nx\n",
    "import pandas as pd\n",
    "import matplotlib.pyplot as plt"
   ]
  },
  {
   "cell_type": "code",
   "execution_count": 53,
   "metadata": {},
   "outputs": [],
   "source": [
    "d = {'A':['B', 'C'],\n",
    "       'B':['A'],\n",
    "       'C':['A', 'D', 'E', 'F'],\n",
    "       'D':['C', 'G', 'H'],\n",
    "       'E':['C', 'F', 'I'],\n",
    "       'F':['C', 'E', 'K'],\n",
    "       'G':['D', 'H', 'I'],\n",
    "       'H':['D', 'G'],\n",
    "       'I':['E', 'G', 'J'],\n",
    "       'J':['I', 'L'],\n",
    "       'K':['F', 'L'],\n",
    "       'L':['K', 'J']}"
   ]
  },
  {
   "cell_type": "code",
   "execution_count": 54,
   "metadata": {},
   "outputs": [],
   "source": [
    "combos = list(combinations(d.keys(), 2))\n",
    "edge_lst = [(combo[0],\n",
    "          combo[1],\n",
    "          len(set(d[combo[0]]) & set(d[combo[1]])))\n",
    "         for combo in combos if len(set(d[combo[0]]) & set(d[combo[1]])) > 0]\n",
    "\n",
    "g = nx.Graph()\n",
    "g.add_nodes_from(d)\n",
    "g.add_weighted_edges_from(edge_lst)"
   ]
  },
  {
   "cell_type": "code",
   "execution_count": 55,
   "metadata": {},
   "outputs": [
    {
     "data": {
      "text/plain": [
       "[('A', 'D', 1),\n",
       " ('A', 'E', 1),\n",
       " ('A', 'F', 1),\n",
       " ('B', 'C', 1),\n",
       " ('C', 'E', 1),\n",
       " ('C', 'F', 1),\n",
       " ('C', 'G', 1),\n",
       " ('C', 'H', 1),\n",
       " ('C', 'I', 1),\n",
       " ('C', 'K', 1),\n",
       " ('D', 'E', 1),\n",
       " ('D', 'F', 1),\n",
       " ('D', 'G', 1),\n",
       " ('D', 'H', 1),\n",
       " ('D', 'I', 1),\n",
       " ('E', 'F', 1),\n",
       " ('E', 'G', 1),\n",
       " ('E', 'J', 1),\n",
       " ('E', 'K', 1),\n",
       " ('F', 'I', 1),\n",
       " ('F', 'L', 1),\n",
       " ('G', 'H', 1),\n",
       " ('G', 'J', 1),\n",
       " ('H', 'I', 1),\n",
       " ('I', 'L', 1),\n",
       " ('J', 'K', 1)]"
      ]
     },
     "execution_count": 55,
     "metadata": {},
     "output_type": "execute_result"
    }
   ],
   "source": [
    "edge_lst"
   ]
  },
  {
   "cell_type": "code",
   "execution_count": 56,
   "metadata": {},
   "outputs": [
    {
     "data": {
      "text/plain": [
       "NodeView(('A', 'B', 'C', 'D', 'E', 'F', 'G', 'H', 'I', 'J', 'K', 'L'))"
      ]
     },
     "execution_count": 56,
     "metadata": {},
     "output_type": "execute_result"
    }
   ],
   "source": [
    "g.nodes()"
   ]
  },
  {
   "cell_type": "code",
   "execution_count": 57,
   "metadata": {},
   "outputs": [
    {
     "data": {
      "text/plain": [
       "EdgeDataView([('A', 'D', {'weight': 1}), ('A', 'E', {'weight': 1}), ('A', 'F', {'weight': 1}), ('B', 'C', {'weight': 1}), ('C', 'E', {'weight': 1}), ('C', 'F', {'weight': 1}), ('C', 'G', {'weight': 1}), ('C', 'H', {'weight': 1}), ('C', 'I', {'weight': 1}), ('C', 'K', {'weight': 1}), ('D', 'E', {'weight': 1}), ('D', 'F', {'weight': 1}), ('D', 'G', {'weight': 1}), ('D', 'H', {'weight': 1}), ('D', 'I', {'weight': 1}), ('E', 'F', {'weight': 1}), ('E', 'G', {'weight': 1}), ('E', 'J', {'weight': 1}), ('E', 'K', {'weight': 1}), ('F', 'I', {'weight': 1}), ('F', 'L', {'weight': 1}), ('G', 'H', {'weight': 1}), ('G', 'J', {'weight': 1}), ('H', 'I', {'weight': 1}), ('I', 'L', {'weight': 1}), ('J', 'K', {'weight': 1})])"
      ]
     },
     "execution_count": 57,
     "metadata": {},
     "output_type": "execute_result"
    }
   ],
   "source": [
    "g.edges(data=True)"
   ]
  },
  {
   "cell_type": "code",
   "execution_count": 58,
   "metadata": {},
   "outputs": [
    {
     "data": {
      "image/png": "[encoded data removed]",
      "text/plain": [
       "<Figure size 432x288 with 1 Axes>"
      ]
     },
     "metadata": {},
     "output_type": "display_data"
    }
   ],
   "source": [
    "pos = nx.spring_layout(g)\n",
    "edgewidth = [g[u][v]['weight'] for u, v in g.edges()]\n",
    "nx.draw_networkx_nodes(g, pos)\n",
    "nx.draw_networkx_edges(g, pos, width=edgewidth)\n",
    "nx.draw_networkx_labels(g, pos)\n",
    "plt.show()"
   ]
  }
 ],
 "metadata": {
  "kernelspec": {
   "display_name": "Python [conda env:jcop_usl]",
   "language": "python",
   "name": "conda-env-jcop_usl-py"
  },
  "language_info": {
   "codemirror_mode": {
    "name": "ipython",
    "version": 3
   },
   "file_extension": ".py",
   "mimetype": "text/x-python",
   "name": "python",
   "nbconvert_exporter": "python",
   "pygments_lexer": "ipython3",
   "version": "3.7.6"
  }
 },
 "nbformat": 4,
 "nbformat_minor": 4
}
